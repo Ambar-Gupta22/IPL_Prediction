{
 "cells": [
  {
   "cell_type": "code",
   "execution_count": null,
   "id": "4321bb6a",
   "metadata": {},
   "outputs": [],
   "source": [
    "import pandas as pd\n",
    "import numpy as np"
   ]
  },
  {
   "cell_type": "code",
   "execution_count": null,
   "id": "11f5030e",
   "metadata": {},
   "outputs": [],
   "source": [
    "match=pd.read_csv('matches.csv')\n",
    "delivery=pd.read_csv('deliveries.csv')"
   ]
  },
  {
   "cell_type": "code",
   "execution_count": null,
   "id": "d159f32b",
   "metadata": {},
   "outputs": [],
   "source": [
    "match.head(3)\n",
    "delivery.head(8)\n",
    "# delivery.shape\n",
    "delivery.groupby(['match_id','inning']).sum()"
   ]
  },
  {
   "cell_type": "code",
   "execution_count": null,
   "id": "9ded3708",
   "metadata": {},
   "outputs": [],
   "source": [
    "delivery.head(8)"
   ]
  },
  {
   "cell_type": "code",
   "execution_count": null,
   "id": "a1023c6b",
   "metadata": {},
   "outputs": [],
   "source": [
    "match.head(3)"
   ]
  },
  {
   "cell_type": "code",
   "execution_count": null,
   "id": "f487cdf9",
   "metadata": {},
   "outputs": [],
   "source": [
    "total_score_df = delivery.groupby(['match_id','inning']).sum()['total_runs'].reset_index()\n",
    "total_score_df = total_score_df[total_score_df['inning'] == 1]\n",
    "total_score_df['total_runs'] = total_score_df['total_runs']\n",
    "total_score_df"
   ]
  },
  {
   "cell_type": "code",
   "execution_count": null,
   "id": "941cae16",
   "metadata": {},
   "outputs": [],
   "source": [
    "match_df = match.merge(total_score_df[['match_id','total_runs']],left_on='id',right_on='match_id')\n",
    "match_df"
   ]
  },
  {
   "cell_type": "code",
   "execution_count": null,
   "id": "6dd1db58",
   "metadata": {},
   "outputs": [],
   "source": [
    "teams = [\n",
    "    'Sunrisers Hyderabad',\n",
    "    'Mumbai Indians',\n",
    "    'Royal Challengers Bangalore',\n",
    "    'Kolkata Knight Riders',\n",
    "    'Kings XI Punjab',\n",
    "    'Chennai Super Kings',\n",
    "    'Rajasthan Royals',\n",
    "    'Delhi Capitals'\n",
    "]"
   ]
  },
  {
   "cell_type": "code",
   "execution_count": null,
   "id": "5ae467d9",
   "metadata": {},
   "outputs": [],
   "source": [
    "match_df['team1'] = match_df['team1'].str.replace('Delhi Daredevils','Delhi Capitals')\n",
    "match_df['team2'] = match_df['team2'].str.replace('Delhi Daredevils','Delhi Capitals')\n",
    "\n",
    "match_df['team1'] = match_df['team1'].str.replace('Deccan Chargers','Sunrisers Hyderabad')\n",
    "match_df['team2'] = match_df['team2'].str.replace('Deccan Chargers','Sunrisers Hyderabad')\n",
    "match_df = match_df[match_df['team1'].isin(teams)]\n",
    "match_df = match_df[match_df['team2'].isin(teams)]"
   ]
  },
  {
   "cell_type": "code",
   "execution_count": null,
   "id": "659444a1",
   "metadata": {},
   "outputs": [],
   "source": [
    "match_df.shape"
   ]
  },
  {
   "cell_type": "code",
   "execution_count": null,
   "id": "efc2a89d",
   "metadata": {},
   "outputs": [],
   "source": [
    "match_df=match_df[match_df['dl_applied']==0]"
   ]
  },
  {
   "cell_type": "code",
   "execution_count": null,
   "id": "002b97c9",
   "metadata": {},
   "outputs": [],
   "source": [
    "match_df.shape\n"
   ]
  },
  {
   "cell_type": "code",
   "execution_count": null,
   "id": "fe31e365",
   "metadata": {},
   "outputs": [],
   "source": [
    "match_df = match_df[['match_id','city','winner','total_runs']]\n",
    "delivery_df = match_df.merge(delivery,on='match_id')"
   ]
  },
  {
   "cell_type": "code",
   "execution_count": null,
   "id": "de284c5d",
   "metadata": {},
   "outputs": [],
   "source": [
    "delivery_df = delivery_df[delivery_df['inning'] == 2]\n",
    "delivery_df"
   ]
  },
  {
   "cell_type": "code",
   "execution_count": null,
   "id": "d0bdd600",
   "metadata": {},
   "outputs": [],
   "source": [
    "numeric_cols = delivery_df.select_dtypes(include='number').columns\n",
    "delivery_df['current_score'] = delivery_df.groupby('match_id')[numeric_cols].cumsum()['total_runs_y']\n",
    "delivery_df"
   ]
  },
  {
   "cell_type": "code",
   "execution_count": null,
   "id": "6f97f2cf",
   "metadata": {},
   "outputs": [],
   "source": [
    "delivery_df['runs_left'] = delivery_df['total_runs_x'] - delivery_df['current_score']"
   ]
  },
  {
   "cell_type": "code",
   "execution_count": null,
   "id": "38e6af9e",
   "metadata": {},
   "outputs": [],
   "source": [
    "delivery_df['balls_left'] = 126 - (delivery_df['over']*6 + delivery_df['ball'])"
   ]
  },
  {
   "cell_type": "code",
   "execution_count": null,
   "id": "ede3fdaa",
   "metadata": {},
   "outputs": [],
   "source": [
    "delivery_df"
   ]
  },
  {
   "cell_type": "code",
   "execution_count": null,
   "id": "9c83552d",
   "metadata": {},
   "outputs": [],
   "source": [
    "delivery_df['player_dismissed'] = delivery_df['player_dismissed'].fillna(\"0\")\n"
   ]
  },
  {
   "cell_type": "code",
   "execution_count": null,
   "id": "76b30c91",
   "metadata": {},
   "outputs": [],
   "source": [
    "delivery_df"
   ]
  },
  {
   "cell_type": "code",
   "execution_count": null,
   "id": "88cf4995",
   "metadata": {},
   "outputs": [],
   "source": []
  },
  {
   "cell_type": "code",
   "execution_count": null,
   "id": "b8bb7f82",
   "metadata": {},
   "outputs": [],
   "source": [
    "delivery_df['player_dismissed'] = delivery_df['player_dismissed'].apply(lambda x: 0 if x == \"0\" else \"1\")\n",
    "delivery_df['player_dismissed'] = delivery_df['player_dismissed'].astype(int)\n",
    "delivery_df['wickets'] = 10 -  delivery_df.groupby('match_id')['player_dismissed'].cumsum()\n",
    "\n",
    "delivery_df.head()\n"
   ]
  },
  {
   "cell_type": "code",
   "execution_count": null,
   "id": "89134058",
   "metadata": {},
   "outputs": [],
   "source": [
    "delivery_df['crr'] = (delivery_df['current_score']*6)/(120 - delivery_df['balls_left'])\n",
    "delivery_df['rrr'] = (delivery_df['runs_left']*6)/delivery_df['balls_left']"
   ]
  },
  {
   "cell_type": "code",
   "execution_count": null,
   "id": "5cbaa2d4",
   "metadata": {},
   "outputs": [],
   "source": [
    "delivery_df.head()\n"
   ]
  },
  {
   "cell_type": "code",
   "execution_count": null,
   "id": "d58f3c2c",
   "metadata": {},
   "outputs": [],
   "source": [
    "def result(row):\n",
    "    return 1 if row['batting_team'] == row['winner'] else 0\n",
    "delivery_df['result'] = delivery_df.apply(result,axis=1)"
   ]
  },
  {
   "cell_type": "code",
   "execution_count": null,
   "id": "a14fe4a0",
   "metadata": {},
   "outputs": [],
   "source": [
    "final_df = delivery_df[['batting_team','bowling_team','city','runs_left','balls_left','wickets','total_runs_x','crr','rrr','result']]"
   ]
  },
  {
   "cell_type": "code",
   "execution_count": null,
   "id": "347f3096",
   "metadata": {},
   "outputs": [],
   "source": [
    "final_df = final_df.sample(final_df.shape[0])\n",
    "final_df.sample()"
   ]
  },
  {
   "cell_type": "code",
   "execution_count": null,
   "id": "30295c5e",
   "metadata": {},
   "outputs": [],
   "source": [
    "final_df.dropna(inplace=True)\n",
    "final_df = final_df[final_df['balls_left'] != 0]"
   ]
  },
  {
   "cell_type": "code",
   "execution_count": null,
   "id": "4defd889",
   "metadata": {},
   "outputs": [],
   "source": [
    "X = final_df.iloc[:,:-1]\n",
    "y = final_df.iloc[:,-1]\n",
    "from sklearn.model_selection import train_test_split\n",
    "X_train,X_test,y_train,y_test = train_test_split(X,y,test_size=0.2,random_state=1)"
   ]
  },
  {
   "cell_type": "code",
   "execution_count": null,
   "id": "74218906",
   "metadata": {},
   "outputs": [],
   "source": [
    "y_test"
   ]
  },
  {
   "cell_type": "code",
   "execution_count": null,
   "id": "1e35e4c3",
   "metadata": {},
   "outputs": [],
   "source": [
    "from sklearn.compose import ColumnTransformer\n",
    "from sklearn.preprocessing import OneHotEncoder\n",
    "\n",
    "trf = ColumnTransformer([\n",
    "    ('trf',OneHotEncoder(sparse_output=False,drop='first'),['batting_team','bowling_team','city'])\n",
    "]\n",
    ",remainder='passthrough')"
   ]
  },
  {
   "cell_type": "code",
   "execution_count": null,
   "id": "255a7826",
   "metadata": {
    "scrolled": true
   },
   "outputs": [],
   "source": [
    "from sklearn.linear_model import LogisticRegression\n",
    "from sklearn.ensemble import RandomForestClassifier\n",
    "from sklearn.pipeline import Pipeline\n",
    "pipe = Pipeline(steps=[\n",
    "    ('step1',trf),\n",
    "    ('step2',LogisticRegression(solver='liblinear'))\n",
    "])\n",
    "pipe.fit(X_train,y_train)"
   ]
  },
  {
   "cell_type": "code",
   "execution_count": null,
   "id": "b745238a",
   "metadata": {},
   "outputs": [],
   "source": [
    "y_pred = pipe.predict(X_test)\n",
    "from sklearn.metrics import accuracy_score\n",
    "accuracy_score(y_test,y_pred)"
   ]
  },
  {
   "cell_type": "code",
   "execution_count": null,
   "id": "abafd466",
   "metadata": {},
   "outputs": [],
   "source": [
    "pipe.predict_proba(X_test)[10]"
   ]
  },
  {
   "cell_type": "code",
   "execution_count": null,
   "id": "74371dae",
   "metadata": {},
   "outputs": [],
   "source": [
    "import pickle\n",
    "pickle.dump(pipe,open('pipe.pkl','wb'))"
   ]
  },
  {
   "cell_type": "code",
   "execution_count": null,
   "id": "a1f34729",
   "metadata": {},
   "outputs": [],
   "source": []
  }
 ],
 "metadata": {
  "kernelspec": {
   "display_name": "Python 3 (ipykernel)",
   "language": "python",
   "name": "python3"
  },
  "language_info": {
   "codemirror_mode": {
    "name": "ipython",
    "version": 3
   },
   "file_extension": ".py",
   "mimetype": "text/x-python",
   "name": "python",
   "nbconvert_exporter": "python",
   "pygments_lexer": "ipython3",
   "version": "3.11.4"
  }
 },
 "nbformat": 4,
 "nbformat_minor": 5
}
